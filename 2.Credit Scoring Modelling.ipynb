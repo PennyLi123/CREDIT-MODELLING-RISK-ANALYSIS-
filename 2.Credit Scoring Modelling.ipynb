{
 "cells": [
  {
   "cell_type": "markdown",
   "id": "334a2151",
   "metadata": {},
   "source": [
    "# Step 1 Importing libraries & functions"
   ]
  },
  {
   "cell_type": "code",
   "execution_count": 11,
   "id": "e46318ca",
   "metadata": {},
   "outputs": [
    {
     "name": "stdout",
     "output_type": "stream",
     "text": [
      "/Library/Developer/CommandLineTools/usr/bin/python3\n"
     ]
    }
   ],
   "source": [
    "import sys\n",
    "print(sys.executable)\n",
    "\n",
    "import pandas as pd\n",
    "import numpy as np\n",
    "\n",
    "import matplotlib.pyplot as plt\n",
    "import seaborn as sns\n",
    "%matplotlib inline\n",
    "\n",
    "from sklearn.model_selection import train_test_split\n",
    "from sklearn.preprocessing import StandardScaler\n",
    "from sklearn.metrics import confusion_matrix, accuracy_score\n",
    "from sklearn.linear_model import LogisticRegression"
   ]
  },
  {
   "cell_type": "markdown",
   "id": "15176d76",
   "metadata": {},
   "source": [
    "# Step 2 Importing dataset"
   ]
  },
  {
   "cell_type": "code",
   "execution_count": 12,
   "id": "7cd2cf88",
   "metadata": {},
   "outputs": [],
   "source": [
    "dataset = pd.read_csv(r'/Users/PSL/Desktop/Data Analysis Project/Credit Scoring Analysis Python/1.Scorecard.csv')"
   ]
  },
  {
   "cell_type": "markdown",
   "id": "413d7ea7",
   "metadata": {},
   "source": [
    "# Step 3 Exploring Data"
   ]
  },
  {
   "cell_type": "code",
   "execution_count": 13,
   "id": "7120d65d",
   "metadata": {},
   "outputs": [
    {
     "data": {
      "text/plain": [
       "(3000, 30)"
      ]
     },
     "execution_count": 13,
     "metadata": {},
     "output_type": "execute_result"
    }
   ],
   "source": [
    "# count of rows and columns\n",
    "dataset.shape"
   ]
  },
  {
   "cell_type": "code",
   "execution_count": 4,
   "id": "59ae58a5",
   "metadata": {
    "scrolled": true
   },
   "outputs": [
    {
     "data": {
      "text/html": [
       "<div>\n",
       "<style scoped>\n",
       "    .dataframe tbody tr th:only-of-type {\n",
       "        vertical-align: middle;\n",
       "    }\n",
       "\n",
       "    .dataframe tbody tr th {\n",
       "        vertical-align: top;\n",
       "    }\n",
       "\n",
       "    .dataframe thead th {\n",
       "        text-align: right;\n",
       "    }\n",
       "</style>\n",
       "<table border=\"1\" class=\"dataframe\">\n",
       "  <thead>\n",
       "    <tr style=\"text-align: right;\">\n",
       "      <th></th>\n",
       "      <th>TARGET</th>\n",
       "      <th>ID</th>\n",
       "      <th>DerogCnt</th>\n",
       "      <th>CollectCnt</th>\n",
       "      <th>BanruptcyInd</th>\n",
       "      <th>InqCnt06</th>\n",
       "      <th>InqTimeLast</th>\n",
       "      <th>InqFinanceCnt24</th>\n",
       "      <th>TLTimeFirst</th>\n",
       "      <th>TLTimeLast</th>\n",
       "      <th>...</th>\n",
       "      <th>TL50UtilCnt</th>\n",
       "      <th>TLBalHCPct</th>\n",
       "      <th>TLSatPct</th>\n",
       "      <th>TLDel3060Cnt24</th>\n",
       "      <th>TLDel90Cnt24</th>\n",
       "      <th>TLDel60CntAll</th>\n",
       "      <th>TLOpenPct</th>\n",
       "      <th>TLBadDerogCnt</th>\n",
       "      <th>TLDel60Cnt24</th>\n",
       "      <th>TLOpen24Pct</th>\n",
       "    </tr>\n",
       "  </thead>\n",
       "  <tbody>\n",
       "    <tr>\n",
       "      <th>0</th>\n",
       "      <td>1</td>\n",
       "      <td>582</td>\n",
       "      <td>3</td>\n",
       "      <td>3</td>\n",
       "      <td>0</td>\n",
       "      <td>4</td>\n",
       "      <td>0.0</td>\n",
       "      <td>5</td>\n",
       "      <td>117</td>\n",
       "      <td>27</td>\n",
       "      <td>...</td>\n",
       "      <td>3.0</td>\n",
       "      <td>1.0</td>\n",
       "      <td>0.0</td>\n",
       "      <td>2</td>\n",
       "      <td>3</td>\n",
       "      <td>7</td>\n",
       "      <td>0.0</td>\n",
       "      <td>4</td>\n",
       "      <td>4</td>\n",
       "      <td>0.0</td>\n",
       "    </tr>\n",
       "    <tr>\n",
       "      <th>1</th>\n",
       "      <td>1</td>\n",
       "      <td>662</td>\n",
       "      <td>15</td>\n",
       "      <td>9</td>\n",
       "      <td>0</td>\n",
       "      <td>3</td>\n",
       "      <td>1.0</td>\n",
       "      <td>3</td>\n",
       "      <td>14</td>\n",
       "      <td>14</td>\n",
       "      <td>...</td>\n",
       "      <td>1.0</td>\n",
       "      <td>1.0</td>\n",
       "      <td>0.0</td>\n",
       "      <td>0</td>\n",
       "      <td>0</td>\n",
       "      <td>0</td>\n",
       "      <td>1.0</td>\n",
       "      <td>12</td>\n",
       "      <td>0</td>\n",
       "      <td>1.0</td>\n",
       "    </tr>\n",
       "    <tr>\n",
       "      <th>2</th>\n",
       "      <td>1</td>\n",
       "      <td>805</td>\n",
       "      <td>0</td>\n",
       "      <td>0</td>\n",
       "      <td>0</td>\n",
       "      <td>1</td>\n",
       "      <td>5.0</td>\n",
       "      <td>1</td>\n",
       "      <td>354</td>\n",
       "      <td>7</td>\n",
       "      <td>...</td>\n",
       "      <td>5.0</td>\n",
       "      <td>0.0</td>\n",
       "      <td>1.0</td>\n",
       "      <td>0</td>\n",
       "      <td>1</td>\n",
       "      <td>1</td>\n",
       "      <td>1.0</td>\n",
       "      <td>1</td>\n",
       "      <td>1</td>\n",
       "      <td>1.0</td>\n",
       "    </tr>\n",
       "    <tr>\n",
       "      <th>3</th>\n",
       "      <td>1</td>\n",
       "      <td>1175</td>\n",
       "      <td>8</td>\n",
       "      <td>5</td>\n",
       "      <td>0</td>\n",
       "      <td>6</td>\n",
       "      <td>1.0</td>\n",
       "      <td>10</td>\n",
       "      <td>16</td>\n",
       "      <td>4</td>\n",
       "      <td>...</td>\n",
       "      <td>3.0</td>\n",
       "      <td>1.0</td>\n",
       "      <td>0.0</td>\n",
       "      <td>1</td>\n",
       "      <td>1</td>\n",
       "      <td>1</td>\n",
       "      <td>1.0</td>\n",
       "      <td>7</td>\n",
       "      <td>1</td>\n",
       "      <td>1.0</td>\n",
       "    </tr>\n",
       "    <tr>\n",
       "      <th>4</th>\n",
       "      <td>1</td>\n",
       "      <td>1373</td>\n",
       "      <td>3</td>\n",
       "      <td>1</td>\n",
       "      <td>0</td>\n",
       "      <td>9</td>\n",
       "      <td>0.0</td>\n",
       "      <td>8</td>\n",
       "      <td>130</td>\n",
       "      <td>52</td>\n",
       "      <td>...</td>\n",
       "      <td>1.0</td>\n",
       "      <td>1.0</td>\n",
       "      <td>0.0</td>\n",
       "      <td>0</td>\n",
       "      <td>1</td>\n",
       "      <td>4</td>\n",
       "      <td>0.0</td>\n",
       "      <td>3</td>\n",
       "      <td>1</td>\n",
       "      <td>0.0</td>\n",
       "    </tr>\n",
       "  </tbody>\n",
       "</table>\n",
       "<p>5 rows × 30 columns</p>\n",
       "</div>"
      ],
      "text/plain": [
       "   TARGET    ID  DerogCnt  CollectCnt  BanruptcyInd  InqCnt06  InqTimeLast  \\\n",
       "0       1   582         3           3             0         4          0.0   \n",
       "1       1   662        15           9             0         3          1.0   \n",
       "2       1   805         0           0             0         1          5.0   \n",
       "3       1  1175         8           5             0         6          1.0   \n",
       "4       1  1373         3           1             0         9          0.0   \n",
       "\n",
       "   InqFinanceCnt24  TLTimeFirst  TLTimeLast  ...  TL50UtilCnt  TLBalHCPct  \\\n",
       "0                5          117          27  ...          3.0         1.0   \n",
       "1                3           14          14  ...          1.0         1.0   \n",
       "2                1          354           7  ...          5.0         0.0   \n",
       "3               10           16           4  ...          3.0         1.0   \n",
       "4                8          130          52  ...          1.0         1.0   \n",
       "\n",
       "   TLSatPct  TLDel3060Cnt24  TLDel90Cnt24  TLDel60CntAll  TLOpenPct  \\\n",
       "0       0.0               2             3              7        0.0   \n",
       "1       0.0               0             0              0        1.0   \n",
       "2       1.0               0             1              1        1.0   \n",
       "3       0.0               1             1              1        1.0   \n",
       "4       0.0               0             1              4        0.0   \n",
       "\n",
       "   TLBadDerogCnt  TLDel60Cnt24  TLOpen24Pct  \n",
       "0              4             4          0.0  \n",
       "1             12             0          1.0  \n",
       "2              1             1          1.0  \n",
       "3              7             1          1.0  \n",
       "4              3             1          0.0  \n",
       "\n",
       "[5 rows x 30 columns]"
      ]
     },
     "execution_count": 4,
     "metadata": {},
     "output_type": "execute_result"
    }
   ],
   "source": [
    "#shows first few rows of the code\n",
    "dataset.head(5)"
   ]
  },
  {
   "cell_type": "code",
   "execution_count": 5,
   "id": "3e002917",
   "metadata": {},
   "outputs": [
    {
     "data": {
      "text/html": [
       "<div>\n",
       "<style scoped>\n",
       "    .dataframe tbody tr th:only-of-type {\n",
       "        vertical-align: middle;\n",
       "    }\n",
       "\n",
       "    .dataframe tbody tr th {\n",
       "        vertical-align: top;\n",
       "    }\n",
       "\n",
       "    .dataframe thead th {\n",
       "        text-align: right;\n",
       "    }\n",
       "</style>\n",
       "<table border=\"1\" class=\"dataframe\">\n",
       "  <thead>\n",
       "    <tr style=\"text-align: right;\">\n",
       "      <th></th>\n",
       "      <th>TARGET</th>\n",
       "      <th>ID</th>\n",
       "      <th>DerogCnt</th>\n",
       "      <th>CollectCnt</th>\n",
       "      <th>BanruptcyInd</th>\n",
       "      <th>InqCnt06</th>\n",
       "      <th>InqTimeLast</th>\n",
       "      <th>InqFinanceCnt24</th>\n",
       "      <th>TLTimeFirst</th>\n",
       "      <th>TLTimeLast</th>\n",
       "      <th>...</th>\n",
       "      <th>TL50UtilCnt</th>\n",
       "      <th>TLBalHCPct</th>\n",
       "      <th>TLSatPct</th>\n",
       "      <th>TLDel3060Cnt24</th>\n",
       "      <th>TLDel90Cnt24</th>\n",
       "      <th>TLDel60CntAll</th>\n",
       "      <th>TLOpenPct</th>\n",
       "      <th>TLBadDerogCnt</th>\n",
       "      <th>TLDel60Cnt24</th>\n",
       "      <th>TLOpen24Pct</th>\n",
       "    </tr>\n",
       "  </thead>\n",
       "  <tbody>\n",
       "    <tr>\n",
       "      <th>count</th>\n",
       "      <td>3000.000000</td>\n",
       "      <td>3000.000000</td>\n",
       "      <td>3000.000000</td>\n",
       "      <td>3000.000000</td>\n",
       "      <td>3000.000000</td>\n",
       "      <td>3000.000000</td>\n",
       "      <td>2812.000000</td>\n",
       "      <td>3000.000000</td>\n",
       "      <td>3000.000000</td>\n",
       "      <td>3000.000000</td>\n",
       "      <td>...</td>\n",
       "      <td>2901.000000</td>\n",
       "      <td>2959.000000</td>\n",
       "      <td>2996.000000</td>\n",
       "      <td>3000.000000</td>\n",
       "      <td>3000.000000</td>\n",
       "      <td>3000.000000</td>\n",
       "      <td>2997.000000</td>\n",
       "      <td>3000.000000</td>\n",
       "      <td>3000.000000</td>\n",
       "      <td>2997.000000</td>\n",
       "    </tr>\n",
       "    <tr>\n",
       "      <th>mean</th>\n",
       "      <td>0.166667</td>\n",
       "      <td>62922.683667</td>\n",
       "      <td>1.430000</td>\n",
       "      <td>0.857000</td>\n",
       "      <td>0.153333</td>\n",
       "      <td>3.108333</td>\n",
       "      <td>3.108108</td>\n",
       "      <td>3.555000</td>\n",
       "      <td>170.113667</td>\n",
       "      <td>11.873667</td>\n",
       "      <td>...</td>\n",
       "      <td>4.077904</td>\n",
       "      <td>0.757350</td>\n",
       "      <td>0.581776</td>\n",
       "      <td>0.726000</td>\n",
       "      <td>0.814667</td>\n",
       "      <td>2.522000</td>\n",
       "      <td>0.510511</td>\n",
       "      <td>1.409000</td>\n",
       "      <td>1.068333</td>\n",
       "      <td>0.564231</td>\n",
       "    </tr>\n",
       "    <tr>\n",
       "      <th>std</th>\n",
       "      <td>0.372740</td>\n",
       "      <td>37203.691912</td>\n",
       "      <td>2.731469</td>\n",
       "      <td>2.161352</td>\n",
       "      <td>0.360369</td>\n",
       "      <td>3.479171</td>\n",
       "      <td>4.637831</td>\n",
       "      <td>4.477536</td>\n",
       "      <td>92.813700</td>\n",
       "      <td>16.321412</td>\n",
       "      <td>...</td>\n",
       "      <td>3.108076</td>\n",
       "      <td>0.435019</td>\n",
       "      <td>0.493350</td>\n",
       "      <td>1.163633</td>\n",
       "      <td>1.609508</td>\n",
       "      <td>3.407255</td>\n",
       "      <td>0.499973</td>\n",
       "      <td>2.460434</td>\n",
       "      <td>1.806124</td>\n",
       "      <td>0.616010</td>\n",
       "    </tr>\n",
       "    <tr>\n",
       "      <th>min</th>\n",
       "      <td>0.000000</td>\n",
       "      <td>66.000000</td>\n",
       "      <td>0.000000</td>\n",
       "      <td>0.000000</td>\n",
       "      <td>0.000000</td>\n",
       "      <td>0.000000</td>\n",
       "      <td>0.000000</td>\n",
       "      <td>0.000000</td>\n",
       "      <td>6.000000</td>\n",
       "      <td>0.000000</td>\n",
       "      <td>...</td>\n",
       "      <td>0.000000</td>\n",
       "      <td>0.000000</td>\n",
       "      <td>0.000000</td>\n",
       "      <td>0.000000</td>\n",
       "      <td>0.000000</td>\n",
       "      <td>0.000000</td>\n",
       "      <td>0.000000</td>\n",
       "      <td>0.000000</td>\n",
       "      <td>0.000000</td>\n",
       "      <td>0.000000</td>\n",
       "    </tr>\n",
       "    <tr>\n",
       "      <th>25%</th>\n",
       "      <td>0.000000</td>\n",
       "      <td>30376.500000</td>\n",
       "      <td>0.000000</td>\n",
       "      <td>0.000000</td>\n",
       "      <td>0.000000</td>\n",
       "      <td>1.000000</td>\n",
       "      <td>1.000000</td>\n",
       "      <td>1.000000</td>\n",
       "      <td>106.000000</td>\n",
       "      <td>4.000000</td>\n",
       "      <td>...</td>\n",
       "      <td>2.000000</td>\n",
       "      <td>1.000000</td>\n",
       "      <td>0.000000</td>\n",
       "      <td>0.000000</td>\n",
       "      <td>0.000000</td>\n",
       "      <td>0.000000</td>\n",
       "      <td>0.000000</td>\n",
       "      <td>0.000000</td>\n",
       "      <td>0.000000</td>\n",
       "      <td>0.000000</td>\n",
       "    </tr>\n",
       "    <tr>\n",
       "      <th>50%</th>\n",
       "      <td>0.000000</td>\n",
       "      <td>62872.500000</td>\n",
       "      <td>0.000000</td>\n",
       "      <td>0.000000</td>\n",
       "      <td>0.000000</td>\n",
       "      <td>2.000000</td>\n",
       "      <td>1.000000</td>\n",
       "      <td>2.000000</td>\n",
       "      <td>151.000000</td>\n",
       "      <td>7.000000</td>\n",
       "      <td>...</td>\n",
       "      <td>3.000000</td>\n",
       "      <td>1.000000</td>\n",
       "      <td>1.000000</td>\n",
       "      <td>0.000000</td>\n",
       "      <td>0.000000</td>\n",
       "      <td>1.000000</td>\n",
       "      <td>1.000000</td>\n",
       "      <td>0.000000</td>\n",
       "      <td>0.000000</td>\n",
       "      <td>1.000000</td>\n",
       "    </tr>\n",
       "    <tr>\n",
       "      <th>75%</th>\n",
       "      <td>0.000000</td>\n",
       "      <td>96156.500000</td>\n",
       "      <td>2.000000</td>\n",
       "      <td>1.000000</td>\n",
       "      <td>0.000000</td>\n",
       "      <td>4.000000</td>\n",
       "      <td>3.000000</td>\n",
       "      <td>5.000000</td>\n",
       "      <td>227.000000</td>\n",
       "      <td>13.000000</td>\n",
       "      <td>...</td>\n",
       "      <td>6.000000</td>\n",
       "      <td>1.000000</td>\n",
       "      <td>1.000000</td>\n",
       "      <td>2.000000</td>\n",
       "      <td>1.000000</td>\n",
       "      <td>4.000000</td>\n",
       "      <td>1.000000</td>\n",
       "      <td>2.000000</td>\n",
       "      <td>1.000000</td>\n",
       "      <td>1.000000</td>\n",
       "    </tr>\n",
       "    <tr>\n",
       "      <th>max</th>\n",
       "      <td>1.000000</td>\n",
       "      <td>126503.000000</td>\n",
       "      <td>51.000000</td>\n",
       "      <td>50.000000</td>\n",
       "      <td>1.000000</td>\n",
       "      <td>40.000000</td>\n",
       "      <td>24.000000</td>\n",
       "      <td>48.000000</td>\n",
       "      <td>933.000000</td>\n",
       "      <td>342.000000</td>\n",
       "      <td>...</td>\n",
       "      <td>23.000000</td>\n",
       "      <td>3.000000</td>\n",
       "      <td>1.000000</td>\n",
       "      <td>8.000000</td>\n",
       "      <td>19.000000</td>\n",
       "      <td>45.000000</td>\n",
       "      <td>1.000000</td>\n",
       "      <td>47.000000</td>\n",
       "      <td>20.000000</td>\n",
       "      <td>6.000000</td>\n",
       "    </tr>\n",
       "  </tbody>\n",
       "</table>\n",
       "<p>8 rows × 29 columns</p>\n",
       "</div>"
      ],
      "text/plain": [
       "            TARGET             ID     DerogCnt   CollectCnt  BanruptcyInd  \\\n",
       "count  3000.000000    3000.000000  3000.000000  3000.000000   3000.000000   \n",
       "mean      0.166667   62922.683667     1.430000     0.857000      0.153333   \n",
       "std       0.372740   37203.691912     2.731469     2.161352      0.360369   \n",
       "min       0.000000      66.000000     0.000000     0.000000      0.000000   \n",
       "25%       0.000000   30376.500000     0.000000     0.000000      0.000000   \n",
       "50%       0.000000   62872.500000     0.000000     0.000000      0.000000   \n",
       "75%       0.000000   96156.500000     2.000000     1.000000      0.000000   \n",
       "max       1.000000  126503.000000    51.000000    50.000000      1.000000   \n",
       "\n",
       "          InqCnt06  InqTimeLast  InqFinanceCnt24  TLTimeFirst   TLTimeLast  \\\n",
       "count  3000.000000  2812.000000      3000.000000  3000.000000  3000.000000   \n",
       "mean      3.108333     3.108108         3.555000   170.113667    11.873667   \n",
       "std       3.479171     4.637831         4.477536    92.813700    16.321412   \n",
       "min       0.000000     0.000000         0.000000     6.000000     0.000000   \n",
       "25%       1.000000     1.000000         1.000000   106.000000     4.000000   \n",
       "50%       2.000000     1.000000         2.000000   151.000000     7.000000   \n",
       "75%       4.000000     3.000000         5.000000   227.000000    13.000000   \n",
       "max      40.000000    24.000000        48.000000   933.000000   342.000000   \n",
       "\n",
       "       ...  TL50UtilCnt   TLBalHCPct     TLSatPct  TLDel3060Cnt24  \\\n",
       "count  ...  2901.000000  2959.000000  2996.000000     3000.000000   \n",
       "mean   ...     4.077904     0.757350     0.581776        0.726000   \n",
       "std    ...     3.108076     0.435019     0.493350        1.163633   \n",
       "min    ...     0.000000     0.000000     0.000000        0.000000   \n",
       "25%    ...     2.000000     1.000000     0.000000        0.000000   \n",
       "50%    ...     3.000000     1.000000     1.000000        0.000000   \n",
       "75%    ...     6.000000     1.000000     1.000000        2.000000   \n",
       "max    ...    23.000000     3.000000     1.000000        8.000000   \n",
       "\n",
       "       TLDel90Cnt24  TLDel60CntAll    TLOpenPct  TLBadDerogCnt  TLDel60Cnt24  \\\n",
       "count   3000.000000    3000.000000  2997.000000    3000.000000   3000.000000   \n",
       "mean       0.814667       2.522000     0.510511       1.409000      1.068333   \n",
       "std        1.609508       3.407255     0.499973       2.460434      1.806124   \n",
       "min        0.000000       0.000000     0.000000       0.000000      0.000000   \n",
       "25%        0.000000       0.000000     0.000000       0.000000      0.000000   \n",
       "50%        0.000000       1.000000     1.000000       0.000000      0.000000   \n",
       "75%        1.000000       4.000000     1.000000       2.000000      1.000000   \n",
       "max       19.000000      45.000000     1.000000      47.000000     20.000000   \n",
       "\n",
       "       TLOpen24Pct  \n",
       "count  2997.000000  \n",
       "mean      0.564231  \n",
       "std       0.616010  \n",
       "min       0.000000  \n",
       "25%       0.000000  \n",
       "50%       1.000000  \n",
       "75%       1.000000  \n",
       "max       6.000000  \n",
       "\n",
       "[8 rows x 29 columns]"
      ]
     },
     "execution_count": 5,
     "metadata": {},
     "output_type": "execute_result"
    }
   ],
   "source": [
    "dataset.describe()"
   ]
  },
  {
   "cell_type": "code",
   "execution_count": 6,
   "id": "fd099662",
   "metadata": {},
   "outputs": [
    {
     "name": "stdout",
     "output_type": "stream",
     "text": [
      "<class 'pandas.core.frame.DataFrame'>\n",
      "RangeIndex: 3000 entries, 0 to 2999\n",
      "Data columns (total 30 columns):\n",
      " #   Column           Non-Null Count  Dtype  \n",
      "---  ------           --------------  -----  \n",
      " 0   TARGET           3000 non-null   int64  \n",
      " 1   ID               3000 non-null   int64  \n",
      " 2   DerogCnt         3000 non-null   int64  \n",
      " 3   CollectCnt       3000 non-null   int64  \n",
      " 4   BanruptcyInd     3000 non-null   int64  \n",
      " 5   InqCnt06         3000 non-null   int64  \n",
      " 6   InqTimeLast      2812 non-null   float64\n",
      " 7   InqFinanceCnt24  3000 non-null   int64  \n",
      " 8   TLTimeFirst      3000 non-null   int64  \n",
      " 9   TLTimeLast       3000 non-null   int64  \n",
      " 10  TLCnt03          3000 non-null   int64  \n",
      " 11  TLCnt12          3000 non-null   int64  \n",
      " 12  TLCnt24          3000 non-null   int64  \n",
      " 13  TLCnt            2997 non-null   float64\n",
      " 14  TLSum $          2960 non-null   float64\n",
      " 15  TLMaxSum $       2960 non-null   float64\n",
      " 16  TLSatCnt         2996 non-null   float64\n",
      " 17  TLDel60Cnt       3000 non-null   bool   \n",
      " 18  TLBadCnt24       3000 non-null   int64  \n",
      " 19  TL75UtilCnt      2901 non-null   float64\n",
      " 20  TL50UtilCnt      2901 non-null   float64\n",
      " 21  TLBalHCPct       2959 non-null   float64\n",
      " 22  TLSatPct         2996 non-null   float64\n",
      " 23  TLDel3060Cnt24   3000 non-null   int64  \n",
      " 24  TLDel90Cnt24     3000 non-null   int64  \n",
      " 25  TLDel60CntAll    3000 non-null   int64  \n",
      " 26  TLOpenPct        2997 non-null   float64\n",
      " 27  TLBadDerogCnt    3000 non-null   int64  \n",
      " 28  TLDel60Cnt24     3000 non-null   int64  \n",
      " 29  TLOpen24Pct      2997 non-null   float64\n",
      "dtypes: bool(1), float64(11), int64(18)\n",
      "memory usage: 682.7 KB\n"
     ]
    }
   ],
   "source": [
    "dataset.info()"
   ]
  },
  {
   "cell_type": "markdown",
   "id": "2a44a0f6",
   "metadata": {},
   "source": [
    "# Step 4 Cleaning Data"
   ]
  },
  {
   "cell_type": "code",
   "execution_count": 7,
   "id": "dcea4bca",
   "metadata": {},
   "outputs": [
    {
     "data": {
      "text/plain": [
       "(3000, 29)"
      ]
     },
     "execution_count": 7,
     "metadata": {},
     "output_type": "execute_result"
    }
   ],
   "source": [
    "#1.dropping customer ID column \n",
    "dataset=dataset.drop('ID',axis=1)\n",
    "dataset.shape"
   ]
  },
  {
   "cell_type": "code",
   "execution_count": 8,
   "id": "85e85af0",
   "metadata": {},
   "outputs": [
    {
     "data": {
      "text/plain": [
       "TARGET               0\n",
       "DerogCnt             0\n",
       "CollectCnt           0\n",
       "BanruptcyInd         0\n",
       "InqCnt06             0\n",
       "InqTimeLast        188\n",
       "InqFinanceCnt24      0\n",
       "TLTimeFirst          0\n",
       "TLTimeLast           0\n",
       "TLCnt03              0\n",
       "TLCnt12              0\n",
       "TLCnt24              0\n",
       "TLCnt                3\n",
       "TLSum $             40\n",
       "TLMaxSum $          40\n",
       "TLSatCnt             4\n",
       "TLDel60Cnt           0\n",
       "TLBadCnt24           0\n",
       "TL75UtilCnt         99\n",
       "TL50UtilCnt         99\n",
       "TLBalHCPct          41\n",
       "TLSatPct             4\n",
       "TLDel3060Cnt24       0\n",
       "TLDel90Cnt24         0\n",
       "TLDel60CntAll        0\n",
       "TLOpenPct            3\n",
       "TLBadDerogCnt        0\n",
       "TLDel60Cnt24         0\n",
       "TLOpen24Pct          3\n",
       "dtype: int64"
      ]
     },
     "execution_count": 8,
     "metadata": {},
     "output_type": "execute_result"
    }
   ],
   "source": [
    "#2. explore missing values\n",
    "dataset.isna().sum()"
   ]
  },
  {
   "cell_type": "code",
   "execution_count": 14,
   "id": "4cccc0a4",
   "metadata": {},
   "outputs": [
    {
     "data": {
      "text/plain": [
       "<Axes: >"
      ]
     },
     "execution_count": 14,
     "metadata": {},
     "output_type": "execute_result"
    },
    {
     "data": {
      "image/png": "[encoded data removed]",
      "text/plain": [
       "<Figure size 640x480 with 1 Axes>"
      ]
     },
     "metadata": {},
     "output_type": "display_data"
    }
   ],
   "source": [
    "sns.heatmap(dataset.isnull(),yticklabels=False,cbar=False,cmap='viridis')"
   ]
  },
  {
   "cell_type": "code",
   "execution_count": 10,
   "id": "7d3afc70",
   "metadata": {},
   "outputs": [],
   "source": [
    "# filling missing values with mean\n",
    "dataset=dataset.fillna(dataset.mean())"
   ]
  },
  {
   "cell_type": "code",
   "execution_count": 11,
   "id": "2e71f419",
   "metadata": {},
   "outputs": [
    {
     "data": {
      "text/plain": [
       "TARGET             0\n",
       "DerogCnt           0\n",
       "CollectCnt         0\n",
       "BanruptcyInd       0\n",
       "InqCnt06           0\n",
       "InqTimeLast        0\n",
       "InqFinanceCnt24    0\n",
       "TLTimeFirst        0\n",
       "TLTimeLast         0\n",
       "TLCnt03            0\n",
       "TLCnt12            0\n",
       "TLCnt24            0\n",
       "TLCnt              0\n",
       "TLSum $            0\n",
       "TLMaxSum $         0\n",
       "TLSatCnt           0\n",
       "TLDel60Cnt         0\n",
       "TLBadCnt24         0\n",
       "TL75UtilCnt        0\n",
       "TL50UtilCnt        0\n",
       "TLBalHCPct         0\n",
       "TLSatPct           0\n",
       "TLDel3060Cnt24     0\n",
       "TLDel90Cnt24       0\n",
       "TLDel60CntAll      0\n",
       "TLOpenPct          0\n",
       "TLBadDerogCnt      0\n",
       "TLDel60Cnt24       0\n",
       "TLOpen24Pct        0\n",
       "dtype: int64"
      ]
     },
     "execution_count": 11,
     "metadata": {},
     "output_type": "execute_result"
    }
   ],
   "source": [
    "#check-explore missing values post missing value fix\n",
    "dataset.isna().sum()"
   ]
  },
  {
   "cell_type": "markdown",
   "id": "3968f281",
   "metadata": {},
   "source": [
    "# Step 5 Visualizing Data "
   ]
  },
  {
   "cell_type": "code",
   "execution_count": 12,
   "id": "688629b6",
   "metadata": {},
   "outputs": [
    {
     "data": {
      "text/plain": [
       "0    2500\n",
       "1     500\n",
       "Name: TARGET, dtype: int64"
      ]
     },
     "execution_count": 12,
     "metadata": {},
     "output_type": "execute_result"
    }
   ],
   "source": [
    "# 1. count of good loans (0) and bad loans (1)\n",
    "dataset['TARGET'].value_counts()"
   ]
  },
  {
   "cell_type": "code",
   "execution_count": 13,
   "id": "dcebc5f4",
   "metadata": {},
   "outputs": [
    {
     "data": {
      "image/png": "[encoded data removed]",
      "text/plain": [
       "<Figure size 144x432 with 1 Axes>"
      ]
     },
     "metadata": {},
     "output_type": "display_data"
    }
   ],
   "source": [
    "# show in countplot chart\n",
    "# set style\n",
    "sns.set_style('white')\n",
    "# change size\n",
    "plt.figure(figsize=(2,6))\n",
    "# countplot chart\n",
    "sns.countplot(x='TARGET',data=dataset,palette='coolwarm')\n",
    "# Spine Removal\n",
    "sns.despine(left=True)"
   ]
  },
  {
   "cell_type": "code",
   "execution_count": 14,
   "id": "bc761f64",
   "metadata": {},
   "outputs": [
    {
     "data": {
      "text/html": [
       "<div>\n",
       "<style scoped>\n",
       "    .dataframe tbody tr th:only-of-type {\n",
       "        vertical-align: middle;\n",
       "    }\n",
       "\n",
       "    .dataframe tbody tr th {\n",
       "        vertical-align: top;\n",
       "    }\n",
       "\n",
       "    .dataframe thead th {\n",
       "        text-align: right;\n",
       "    }\n",
       "</style>\n",
       "<table border=\"1\" class=\"dataframe\">\n",
       "  <thead>\n",
       "    <tr style=\"text-align: right;\">\n",
       "      <th></th>\n",
       "      <th>DerogCnt</th>\n",
       "      <th>CollectCnt</th>\n",
       "      <th>BanruptcyInd</th>\n",
       "      <th>InqCnt06</th>\n",
       "      <th>InqTimeLast</th>\n",
       "      <th>InqFinanceCnt24</th>\n",
       "      <th>TLTimeFirst</th>\n",
       "      <th>TLTimeLast</th>\n",
       "      <th>TLCnt03</th>\n",
       "      <th>TLCnt12</th>\n",
       "      <th>...</th>\n",
       "      <th>TL50UtilCnt</th>\n",
       "      <th>TLBalHCPct</th>\n",
       "      <th>TLSatPct</th>\n",
       "      <th>TLDel3060Cnt24</th>\n",
       "      <th>TLDel90Cnt24</th>\n",
       "      <th>TLDel60CntAll</th>\n",
       "      <th>TLOpenPct</th>\n",
       "      <th>TLBadDerogCnt</th>\n",
       "      <th>TLDel60Cnt24</th>\n",
       "      <th>TLOpen24Pct</th>\n",
       "    </tr>\n",
       "    <tr>\n",
       "      <th>TARGET</th>\n",
       "      <th></th>\n",
       "      <th></th>\n",
       "      <th></th>\n",
       "      <th></th>\n",
       "      <th></th>\n",
       "      <th></th>\n",
       "      <th></th>\n",
       "      <th></th>\n",
       "      <th></th>\n",
       "      <th></th>\n",
       "      <th></th>\n",
       "      <th></th>\n",
       "      <th></th>\n",
       "      <th></th>\n",
       "      <th></th>\n",
       "      <th></th>\n",
       "      <th></th>\n",
       "      <th></th>\n",
       "      <th></th>\n",
       "      <th></th>\n",
       "      <th></th>\n",
       "    </tr>\n",
       "  </thead>\n",
       "  <tbody>\n",
       "    <tr>\n",
       "      <th>0</th>\n",
       "      <td>1.3224</td>\n",
       "      <td>0.7664</td>\n",
       "      <td>0.1492</td>\n",
       "      <td>2.9424</td>\n",
       "      <td>3.174638</td>\n",
       "      <td>3.2896</td>\n",
       "      <td>173.002</td>\n",
       "      <td>11.650</td>\n",
       "      <td>0.2844</td>\n",
       "      <td>1.832</td>\n",
       "      <td>...</td>\n",
       "      <td>3.986711</td>\n",
       "      <td>0.733997</td>\n",
       "      <td>0.633265</td>\n",
       "      <td>0.6044</td>\n",
       "      <td>0.6624</td>\n",
       "      <td>2.2236</td>\n",
       "      <td>0.526008</td>\n",
       "      <td>1.180</td>\n",
       "      <td>0.8648</td>\n",
       "      <td>0.554051</td>\n",
       "    </tr>\n",
       "    <tr>\n",
       "      <th>1</th>\n",
       "      <td>1.9680</td>\n",
       "      <td>1.3100</td>\n",
       "      <td>0.1740</td>\n",
       "      <td>3.9380</td>\n",
       "      <td>2.775459</td>\n",
       "      <td>4.8820</td>\n",
       "      <td>155.672</td>\n",
       "      <td>12.992</td>\n",
       "      <td>0.2280</td>\n",
       "      <td>1.768</td>\n",
       "      <td>...</td>\n",
       "      <td>4.533870</td>\n",
       "      <td>0.874118</td>\n",
       "      <td>0.324327</td>\n",
       "      <td>1.3340</td>\n",
       "      <td>1.5760</td>\n",
       "      <td>4.0140</td>\n",
       "      <td>0.433021</td>\n",
       "      <td>2.554</td>\n",
       "      <td>2.0860</td>\n",
       "      <td>0.615128</td>\n",
       "    </tr>\n",
       "  </tbody>\n",
       "</table>\n",
       "<p>2 rows × 28 columns</p>\n",
       "</div>"
      ],
      "text/plain": [
       "        DerogCnt  CollectCnt  BanruptcyInd  InqCnt06  InqTimeLast  \\\n",
       "TARGET                                                              \n",
       "0         1.3224      0.7664        0.1492    2.9424     3.174638   \n",
       "1         1.9680      1.3100        0.1740    3.9380     2.775459   \n",
       "\n",
       "        InqFinanceCnt24  TLTimeFirst  TLTimeLast  TLCnt03  TLCnt12  ...  \\\n",
       "TARGET                                                              ...   \n",
       "0                3.2896      173.002      11.650   0.2844    1.832  ...   \n",
       "1                4.8820      155.672      12.992   0.2280    1.768  ...   \n",
       "\n",
       "        TL50UtilCnt  TLBalHCPct  TLSatPct  TLDel3060Cnt24  TLDel90Cnt24  \\\n",
       "TARGET                                                                    \n",
       "0          3.986711    0.733997  0.633265          0.6044        0.6624   \n",
       "1          4.533870    0.874118  0.324327          1.3340        1.5760   \n",
       "\n",
       "        TLDel60CntAll  TLOpenPct  TLBadDerogCnt  TLDel60Cnt24  TLOpen24Pct  \n",
       "TARGET                                                                      \n",
       "0              2.2236   0.526008          1.180        0.8648     0.554051  \n",
       "1              4.0140   0.433021          2.554        2.0860     0.615128  \n",
       "\n",
       "[2 rows x 28 columns]"
      ]
     },
     "execution_count": 14,
     "metadata": {},
     "output_type": "execute_result"
    }
   ],
   "source": [
    "# 2. data summary across 0 & 1\n",
    "dataset.groupby('TARGET').mean()"
   ]
  },
  {
   "cell_type": "code",
   "execution_count": 15,
   "id": "2b603b18",
   "metadata": {},
   "outputs": [
    {
     "data": {
      "text/plain": [
       "<AxesSubplot:>"
      ]
     },
     "execution_count": 15,
     "metadata": {},
     "output_type": "execute_result"
    },
    {
     "data": {
      "image/png": "[encoded data removed]",
      "text/plain": [
       "<Figure size 432x288 with 1 Axes>"
      ]
     },
     "metadata": {},
     "output_type": "display_data"
    }
   ],
   "source": [
    "# Can do entire dataframe with orient='h'\n",
    "sns.boxplot(data=dataset,palette='rainbow',orient='h')"
   ]
  },
  {
   "cell_type": "markdown",
   "id": "e79a2c16",
   "metadata": {},
   "source": [
    "# Step 6 Logistic Regression"
   ]
  },
  {
   "cell_type": "markdown",
   "id": "59c1010b",
   "metadata": {},
   "source": [
    "# Train Test Split"
   ]
  },
  {
   "cell_type": "code",
   "execution_count": 16,
   "id": "c46a90b4",
   "metadata": {},
   "outputs": [],
   "source": [
    "y = dataset.iloc[:, 0].values\n",
    "X = dataset.iloc[:, 1:29].values"
   ]
  },
  {
   "cell_type": "code",
   "execution_count": 17,
   "id": "29e31946",
   "metadata": {},
   "outputs": [],
   "source": [
    "# splitting dataset into training and test (in ratio 80:20)\n",
    "X_train, X_test, y_train, y_test = train_test_split(X, y, test_size=0.2, random_state=0)"
   ]
  },
  {
   "cell_type": "code",
   "execution_count": 18,
   "id": "6474b5b1",
   "metadata": {},
   "outputs": [],
   "source": [
    "# Data Normalization-scale all independent variables between 0 and 1.\n",
    "sc = StandardScaler()\n",
    "X_train = sc.fit_transform(X_train)\n",
    "X_test = sc.transform(X_test)"
   ]
  },
  {
   "cell_type": "code",
   "execution_count": 19,
   "id": "c3c3bd33",
   "metadata": {},
   "outputs": [
    {
     "data": {
      "text/plain": [
       "['SCOREDCARD_NORMALISATION']"
      ]
     },
     "execution_count": 19,
     "metadata": {},
     "output_type": "execute_result"
    }
   ],
   "source": [
    "# Exporting Normalisation Coefficients for later use in prediction\n",
    "import joblib\n",
    "joblib.dump(sc, r'SCOREDCARD_NORMALISATION')"
   ]
  },
  {
   "cell_type": "markdown",
   "id": "84fe5b5d",
   "metadata": {},
   "source": [
    "# Risk Model building"
   ]
  },
  {
   "cell_type": "code",
   "execution_count": 20,
   "id": "2b8b2ff7",
   "metadata": {},
   "outputs": [],
   "source": [
    "# Train and fit a logistic regression model on the training set.\n",
    "classifier = LogisticRegression()\n",
    "classifier.fit(X_train, y_train)\n",
    "y_pred = classifier.predict(X_test)"
   ]
  },
  {
   "cell_type": "code",
   "execution_count": 21,
   "id": "964e564a",
   "metadata": {},
   "outputs": [
    {
     "data": {
      "text/plain": [
       "['CLASSIFIER_SCORECARD']"
      ]
     },
     "execution_count": 21,
     "metadata": {},
     "output_type": "execute_result"
    }
   ],
   "source": [
    "# Exporting Logistic Regression Classifier model for later use in prediction\n",
    "import joblib\n",
    "joblib.dump(classifier, r'CLASSIFIER_SCORECARD')"
   ]
  },
  {
   "cell_type": "markdown",
   "id": "f7df4fa5",
   "metadata": {},
   "source": [
    "# Prediction & Evaluation"
   ]
  },
  {
   "cell_type": "code",
   "execution_count": 22,
   "id": "5dd60dba",
   "metadata": {},
   "outputs": [
    {
     "data": {
      "text/plain": [
       "array([[0.03966785, 0.96033215],\n",
       "       [0.94089043, 0.05910957],\n",
       "       [0.77978187, 0.22021813],\n",
       "       ...,\n",
       "       [0.93556609, 0.06443391],\n",
       "       [0.36454817, 0.63545183],\n",
       "       [0.82133362, 0.17866638]])"
      ]
     },
     "execution_count": 22,
     "metadata": {},
     "output_type": "execute_result"
    }
   ],
   "source": [
    "# generate probabilities \n",
    "predictions = classifier.predict_proba(X_test)\n",
    "predictions"
   ]
  },
  {
   "cell_type": "code",
   "execution_count": 23,
   "id": "2eca1e3d",
   "metadata": {},
   "outputs": [
    {
     "name": "stdout",
     "output_type": "stream",
     "text": [
      "[[482  16]\n",
      " [ 83  19]]\n"
     ]
    }
   ],
   "source": [
    "print(confusion_matrix(y_test,y_pred))"
   ]
  },
  {
   "cell_type": "code",
   "execution_count": 24,
   "id": "874b8359",
   "metadata": {},
   "outputs": [
    {
     "name": "stdout",
     "output_type": "stream",
     "text": [
      "0.835\n"
     ]
    }
   ],
   "source": [
    "print(accuracy_score(y_test, y_pred))"
   ]
  },
  {
   "cell_type": "markdown",
   "id": "02d07eef",
   "metadata": {},
   "source": [
    "# Writing output file"
   ]
  },
  {
   "cell_type": "code",
   "execution_count": 25,
   "id": "1a534a4c",
   "metadata": {},
   "outputs": [
    {
     "data": {
      "text/html": [
       "<div>\n",
       "<style scoped>\n",
       "    .dataframe tbody tr th:only-of-type {\n",
       "        vertical-align: middle;\n",
       "    }\n",
       "\n",
       "    .dataframe tbody tr th {\n",
       "        vertical-align: top;\n",
       "    }\n",
       "\n",
       "    .dataframe thead th {\n",
       "        text-align: right;\n",
       "    }\n",
       "</style>\n",
       "<table border=\"1\" class=\"dataframe\">\n",
       "  <thead>\n",
       "    <tr style=\"text-align: right;\">\n",
       "      <th></th>\n",
       "      <th>Actual Outcome</th>\n",
       "      <th>prob_0</th>\n",
       "      <th>prob_1</th>\n",
       "      <th>predicted_TARGET</th>\n",
       "    </tr>\n",
       "  </thead>\n",
       "  <tbody>\n",
       "    <tr>\n",
       "      <th>0</th>\n",
       "      <td>1</td>\n",
       "      <td>0.039668</td>\n",
       "      <td>0.960332</td>\n",
       "      <td>1</td>\n",
       "    </tr>\n",
       "    <tr>\n",
       "      <th>1</th>\n",
       "      <td>0</td>\n",
       "      <td>0.940890</td>\n",
       "      <td>0.059110</td>\n",
       "      <td>0</td>\n",
       "    </tr>\n",
       "    <tr>\n",
       "      <th>2</th>\n",
       "      <td>0</td>\n",
       "      <td>0.779782</td>\n",
       "      <td>0.220218</td>\n",
       "      <td>0</td>\n",
       "    </tr>\n",
       "    <tr>\n",
       "      <th>3</th>\n",
       "      <td>0</td>\n",
       "      <td>0.922928</td>\n",
       "      <td>0.077072</td>\n",
       "      <td>0</td>\n",
       "    </tr>\n",
       "    <tr>\n",
       "      <th>4</th>\n",
       "      <td>0</td>\n",
       "      <td>0.824084</td>\n",
       "      <td>0.175916</td>\n",
       "      <td>0</td>\n",
       "    </tr>\n",
       "  </tbody>\n",
       "</table>\n",
       "</div>"
      ],
      "text/plain": [
       "   Actual Outcome    prob_0    prob_1  predicted_TARGET\n",
       "0               1  0.039668  0.960332                 1\n",
       "1               0  0.940890  0.059110                 0\n",
       "2               0  0.779782  0.220218                 0\n",
       "3               0  0.922928  0.077072                 0\n",
       "4               0  0.824084  0.175916                 0"
      ]
     },
     "execution_count": 25,
     "metadata": {},
     "output_type": "execute_result"
    }
   ],
   "source": [
    "# writing model output file\n",
    "df_prediction_prob = pd.DataFrame(predictions, columns = ['prob_0', 'prob_1'])\n",
    "df_prediction_target = pd.DataFrame(classifier.predict(X_test), columns = ['predicted_TARGET'])\n",
    "df_test_dataset = pd.DataFrame(y_test,columns= ['Actual Outcome'])\n",
    "dfx=pd.concat([df_test_dataset, df_prediction_prob, df_prediction_target], axis=1)\n",
    "dfx.to_csv(r\"SCOREDCARD_MODEL_PREDICTION.csv\", sep=',', encoding='UTF-8')\n",
    "dfx.head()"
   ]
  }
 ],
 "metadata": {
  "kernelspec": {
   "display_name": "Python 3 (ipykernel)",
   "language": "python",
   "name": "python3"
  },
  "language_info": {
   "codemirror_mode": {
    "name": "ipython",
    "version": 3
   },
   "file_extension": ".py",
   "mimetype": "text/x-python",
   "name": "python",
   "nbconvert_exporter": "python",
   "pygments_lexer": "ipython3",
   "version": "3.9.6"
  }
 },
 "nbformat": 4,
 "nbformat_minor": 5
}
